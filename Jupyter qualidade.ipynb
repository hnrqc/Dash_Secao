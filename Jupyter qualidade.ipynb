{
 "cells": [
  {
   "cell_type": "code",
   "execution_count": 1,
   "metadata": {},
   "outputs": [
    {
     "name": "stderr",
     "output_type": "stream",
     "text": [
      "C:\\Users\\henriqueco\\AppData\\Local\\Temp\\1\\ipykernel_16660\\1632165415.py:5: UserWarning: \n",
      "The dash_core_components package is deprecated. Please replace\n",
      "`import dash_core_components as dcc` with `from dash import dcc`\n",
      "  import dash_core_components as dcc\n",
      "C:\\Users\\henriqueco\\AppData\\Local\\Temp\\1\\ipykernel_16660\\1632165415.py:6: UserWarning: \n",
      "The dash_html_components package is deprecated. Please replace\n",
      "`import dash_html_components as html` with `from dash import html`\n",
      "  import dash_html_components as html\n"
     ]
    }
   ],
   "source": [
    "import pandas as pd\n",
    "import requests\n",
    "import io\n",
    "from jupyter_dash import JupyterDash\n",
    "import dash_core_components as dcc\n",
    "import dash_html_components as html\n",
    "from dash.dependencies import Input, Output\n",
    "import plotly.graph_objs as go\n",
    "import plotly.express as px"
   ]
  },
  {
   "cell_type": "code",
   "execution_count": 2,
   "metadata": {},
   "outputs": [],
   "source": [
    "url = 'https://github.com/hnrqc/Dash_Secao/raw/main/Dados/05_QUALIDADE_2023-05-19%20(2).xlsm'\n",
    "df = pd.read_excel(url, sheet_name='DB')"
   ]
  },
  {
   "cell_type": "code",
   "execution_count": 3,
   "metadata": {},
   "outputs": [
    {
     "name": "stdout",
     "output_type": "stream",
     "text": [
      "Index(['Segmento', 'Centro', 'Data de Lançamento', 'Conta do Razão', 'Ordem',\n",
      "       'Nota', 'QM', 'Montante', 'Descrição ordem', 'Cliente',\n",
      "       'Status sistema ordem', 'Status da QM', 'Seção', 'Responsável', 'Linha',\n",
      "       'Empresa', 'Unidade', 'Tipo de Custo', 'Grupo de status alocação',\n",
      "       'Status avaliação', 'Mês', 'Negóco'],\n",
      "      dtype='object')\n"
     ]
    }
   ],
   "source": [
    "#salve as colunas em uma lista para usar no dropdown\n",
    "colunas = df.columns\n",
    "colunas = colunas[1:]\n",
    "print(colunas)\n",
    "colunas = (['Segmento', 'Centro', 'Data de Lançamento', 'Conta do Razão', 'Ordem',\n",
    "       'Nota', 'QM', 'Montante', 'Descrição ordem', 'Cliente',\n",
    "       'Status sistema ordem', 'Status da QM', 'Seção', 'Responsável', 'Linha',\n",
    "       'Empresa', 'Unidade', 'Tipo de Custo', 'Grupo de status alocação',\n",
    "       'Status avaliação', 'Mês', 'Negóco'])"
   ]
  },
  {
   "cell_type": "code",
   "execution_count": 4,
   "metadata": {},
   "outputs": [],
   "source": [
    "#crie um grafico para relacionar as colunas 'Montante' com 'Responsável'\n",
    "fig1 = px.bar(x=df['Montante'], y=df['Responsável'])\n",
    "#crie um grafico para relacionar as colunas 'Montante' com 'Linha'\n",
    "fig2 = px.bar(x=df['Montante'], y=df['Linha'])\n",
    "#grafico com 'Linha' e 'Montante' como eixo e 'Responsável' para selecionar\n",
    "fig3 = px.scatter(df, x=\"Linha\", y=\"Montante\", color=\"Responsável\")\n",
    "#crie um grafico para relacionar as colunas 'Segmento' com 'Grupo de status alocação'\n",
    "fig4 = px.bar(x=df['Segmento'], y=df['Grupo de status alocação'])"
   ]
  },
  {
   "cell_type": "code",
   "execution_count": 7,
   "metadata": {},
   "outputs": [
    {
     "name": "stdout",
     "output_type": "stream",
     "text": [
      "Dash is running on http://127.0.0.1:8050/\n",
      "\n"
     ]
    },
    {
     "data": {
      "text/html": [
       "\n",
       "        <iframe\n",
       "            width=\"100%\"\n",
       "            height=\"650\"\n",
       "            src=\"http://127.0.0.1:8050/\"\n",
       "            frameborder=\"0\"\n",
       "            allowfullscreen\n",
       "            \n",
       "        ></iframe>\n",
       "        "
      ],
      "text/plain": [
       "<IPython.lib.display.IFrame at 0x266eabe32d0>"
      ]
     },
     "metadata": {},
     "output_type": "display_data"
    }
   ],
   "source": [
    "#criar um app dash e executalo para exibir os graficos acima em uma coluna apenas\n",
    "app = JupyterDash(__name__)\n",
    "app.layout = html.Div([\n",
    "    html.H1(\"Qualidade\"),\n",
    "    html.Div(children='''Selecione a coluna para exibir o gráfico'''),\n",
    "    dcc.Dropdown(\n",
    "        id='coluna',\n",
    "        options=[{'label': i, 'value': i} for i in colunas],\n",
    "        value='Responsável'\n",
    "    ),\n",
    "    dcc.Graph(id='grafico'),\n",
    "    dcc.Graph(id='grafico2'),\n",
    "    dcc.Graph(id='grafico3'),\n",
    "    dcc.Graph(id='grafico4')\n",
    "])\n",
    "app.run_server(mode='inline')"
   ]
  },
  {
   "cell_type": "code",
   "execution_count": null,
   "metadata": {},
   "outputs": [],
   "source": []
  }
 ],
 "metadata": {
  "kernelspec": {
   "display_name": "Python 3",
   "language": "python",
   "name": "python3"
  },
  "language_info": {
   "codemirror_mode": {
    "name": "ipython",
    "version": 3
   },
   "file_extension": ".py",
   "mimetype": "text/x-python",
   "name": "python",
   "nbconvert_exporter": "python",
   "pygments_lexer": "ipython3",
   "version": "3.11.3"
  },
  "orig_nbformat": 4
 },
 "nbformat": 4,
 "nbformat_minor": 2
}
